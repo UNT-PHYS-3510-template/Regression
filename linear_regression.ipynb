{
 "cells": [
  {
   "cell_type": "markdown",
   "metadata": {},
   "source": [
    "# Linear Regression and Learning Curves"
   ]
  },
  {
   "cell_type": "markdown",
   "metadata": {},
   "source": [
    "import useful modules. We will import specific features of sklearn as soon as we need them."
   ]
  },
  {
   "cell_type": "code",
   "execution_count": 1,
   "metadata": {},
   "outputs": [],
   "source": [
    "import numpy as np\n",
    "import matplotlib.pyplot as plt\n",
    "import pandas as pd"
   ]
  },
  {
   "cell_type": "markdown",
   "metadata": {},
   "source": [
    "Read the datafile"
   ]
  },
  {
   "cell_type": "code",
   "execution_count": 2,
   "metadata": {},
   "outputs": [],
   "source": [
    "protein=pd.read_csv('protein_reduced.csv',index_col=0)"
   ]
  },
  {
   "cell_type": "markdown",
   "metadata": {},
   "source": [
    "See a recap of the main information"
   ]
  },
  {
   "cell_type": "code",
   "execution_count": 3,
   "metadata": {},
   "outputs": [
    {
     "name": "stdout",
     "output_type": "stream",
     "text": [
      "<class 'pandas.core.frame.DataFrame'>\n",
      "Int64Index: 753 entries, 0 to 752\n",
      "Data columns (total 13 columns):\n",
      " #   Column         Non-Null Count  Dtype  \n",
      "---  ------         --------------  -----  \n",
      " 0   SUR_CONT_5.0   753 non-null    float64\n",
      " 1   SUR_CONT_10.0  753 non-null    float64\n",
      " 2   SUR_CONT_15.0  753 non-null    float64\n",
      " 3   SUR_CONT_20.0  753 non-null    float64\n",
      " 4   SUR_CONT_25.0  753 non-null    float64\n",
      " 5   SUR_CONT_30.0  753 non-null    float64\n",
      " 6   VOL_CONT_5.0   753 non-null    float64\n",
      " 7   VOL_CONT_10.0  753 non-null    float64\n",
      " 8   VOL_CONT_15.0  753 non-null    float64\n",
      " 9   VOL_CONT_20.0  753 non-null    float64\n",
      " 10  VOL_CONT_25.0  753 non-null    float64\n",
      " 11  VOL_CONT_30.0  753 non-null    float64\n",
      " 12  R_vs_COM       753 non-null    float64\n",
      "dtypes: float64(13)\n",
      "memory usage: 82.4 KB\n"
     ]
    }
   ],
   "source": [
    "protein.info()"
   ]
  },
  {
   "cell_type": "code",
   "execution_count": 4,
   "metadata": {},
   "outputs": [
    {
     "data": {
      "text/html": [
       "<div>\n",
       "<style scoped>\n",
       "    .dataframe tbody tr th:only-of-type {\n",
       "        vertical-align: middle;\n",
       "    }\n",
       "\n",
       "    .dataframe tbody tr th {\n",
       "        vertical-align: top;\n",
       "    }\n",
       "\n",
       "    .dataframe thead th {\n",
       "        text-align: right;\n",
       "    }\n",
       "</style>\n",
       "<table border=\"1\" class=\"dataframe\">\n",
       "  <thead>\n",
       "    <tr style=\"text-align: right;\">\n",
       "      <th></th>\n",
       "      <th>SUR_CONT_5.0</th>\n",
       "      <th>SUR_CONT_10.0</th>\n",
       "      <th>SUR_CONT_15.0</th>\n",
       "      <th>SUR_CONT_20.0</th>\n",
       "      <th>SUR_CONT_25.0</th>\n",
       "      <th>SUR_CONT_30.0</th>\n",
       "      <th>VOL_CONT_5.0</th>\n",
       "      <th>VOL_CONT_10.0</th>\n",
       "      <th>VOL_CONT_15.0</th>\n",
       "      <th>VOL_CONT_20.0</th>\n",
       "      <th>VOL_CONT_25.0</th>\n",
       "      <th>VOL_CONT_30.0</th>\n",
       "    </tr>\n",
       "  </thead>\n",
       "  <tbody>\n",
       "    <tr>\n",
       "      <th>0</th>\n",
       "      <td>121.522571</td>\n",
       "      <td>548.881028</td>\n",
       "      <td>1264.830463</td>\n",
       "      <td>2289.518419</td>\n",
       "      <td>3391.337424</td>\n",
       "      <td>3653.967363</td>\n",
       "      <td>223.210796</td>\n",
       "      <td>1143.797421</td>\n",
       "      <td>3207.296557</td>\n",
       "      <td>5795.562616</td>\n",
       "      <td>7437.812100</td>\n",
       "      <td>7679.494767</td>\n",
       "    </tr>\n",
       "    <tr>\n",
       "      <th>1</th>\n",
       "      <td>134.702052</td>\n",
       "      <td>636.530842</td>\n",
       "      <td>1387.827686</td>\n",
       "      <td>2514.313781</td>\n",
       "      <td>3500.515835</td>\n",
       "      <td>3671.055810</td>\n",
       "      <td>290.567109</td>\n",
       "      <td>1327.942094</td>\n",
       "      <td>3665.775446</td>\n",
       "      <td>6226.401736</td>\n",
       "      <td>7525.075946</td>\n",
       "      <td>7690.406892</td>\n",
       "    </tr>\n",
       "    <tr>\n",
       "      <th>2</th>\n",
       "      <td>114.170039</td>\n",
       "      <td>810.368483</td>\n",
       "      <td>1933.682919</td>\n",
       "      <td>3205.454201</td>\n",
       "      <td>3625.612448</td>\n",
       "      <td>3677.940933</td>\n",
       "      <td>454.008471</td>\n",
       "      <td>2309.263868</td>\n",
       "      <td>5206.656879</td>\n",
       "      <td>7176.821360</td>\n",
       "      <td>7647.408006</td>\n",
       "      <td>7692.459359</td>\n",
       "    </tr>\n",
       "    <tr>\n",
       "      <th>3</th>\n",
       "      <td>145.443717</td>\n",
       "      <td>534.715664</td>\n",
       "      <td>1293.692551</td>\n",
       "      <td>2189.031480</td>\n",
       "      <td>2983.734659</td>\n",
       "      <td>3550.846935</td>\n",
       "      <td>258.304961</td>\n",
       "      <td>1307.891841</td>\n",
       "      <td>3086.614355</td>\n",
       "      <td>5262.122889</td>\n",
       "      <td>6800.541229</td>\n",
       "      <td>7582.953084</td>\n",
       "    </tr>\n",
       "    <tr>\n",
       "      <th>4</th>\n",
       "      <td>142.193057</td>\n",
       "      <td>537.457788</td>\n",
       "      <td>1295.587449</td>\n",
       "      <td>2192.705808</td>\n",
       "      <td>3036.771003</td>\n",
       "      <td>3571.304334</td>\n",
       "      <td>243.117558</td>\n",
       "      <td>1284.578485</td>\n",
       "      <td>3080.921720</td>\n",
       "      <td>5310.062713</td>\n",
       "      <td>6891.578978</td>\n",
       "      <td>7604.861335</td>\n",
       "    </tr>\n",
       "  </tbody>\n",
       "</table>\n",
       "</div>"
      ],
      "text/plain": [
       "   SUR_CONT_5.0  SUR_CONT_10.0  SUR_CONT_15.0  SUR_CONT_20.0  SUR_CONT_25.0  \\\n",
       "0    121.522571     548.881028    1264.830463    2289.518419    3391.337424   \n",
       "1    134.702052     636.530842    1387.827686    2514.313781    3500.515835   \n",
       "2    114.170039     810.368483    1933.682919    3205.454201    3625.612448   \n",
       "3    145.443717     534.715664    1293.692551    2189.031480    2983.734659   \n",
       "4    142.193057     537.457788    1295.587449    2192.705808    3036.771003   \n",
       "\n",
       "   SUR_CONT_30.0  VOL_CONT_5.0  VOL_CONT_10.0  VOL_CONT_15.0  VOL_CONT_20.0  \\\n",
       "0    3653.967363    223.210796    1143.797421    3207.296557    5795.562616   \n",
       "1    3671.055810    290.567109    1327.942094    3665.775446    6226.401736   \n",
       "2    3677.940933    454.008471    2309.263868    5206.656879    7176.821360   \n",
       "3    3550.846935    258.304961    1307.891841    3086.614355    5262.122889   \n",
       "4    3571.304334    243.117558    1284.578485    3080.921720    5310.062713   \n",
       "\n",
       "   VOL_CONT_25.0  VOL_CONT_30.0  \n",
       "0    7437.812100    7679.494767  \n",
       "1    7525.075946    7690.406892  \n",
       "2    7647.408006    7692.459359  \n",
       "3    6800.541229    7582.953084  \n",
       "4    6891.578978    7604.861335  "
      ]
     },
     "execution_count": 4,
     "metadata": {},
     "output_type": "execute_result"
    }
   ],
   "source": [
    "protein_features=protein.drop('R_vs_COM',axis=1)\n",
    "protein_features.head()"
   ]
  },
  {
   "cell_type": "code",
   "execution_count": 5,
   "metadata": {},
   "outputs": [
    {
     "data": {
      "text/html": [
       "<div>\n",
       "<style scoped>\n",
       "    .dataframe tbody tr th:only-of-type {\n",
       "        vertical-align: middle;\n",
       "    }\n",
       "\n",
       "    .dataframe tbody tr th {\n",
       "        vertical-align: top;\n",
       "    }\n",
       "\n",
       "    .dataframe thead th {\n",
       "        text-align: right;\n",
       "    }\n",
       "</style>\n",
       "<table border=\"1\" class=\"dataframe\">\n",
       "  <thead>\n",
       "    <tr style=\"text-align: right;\">\n",
       "      <th></th>\n",
       "      <th>R_vs_COM</th>\n",
       "    </tr>\n",
       "  </thead>\n",
       "  <tbody>\n",
       "    <tr>\n",
       "      <th>0</th>\n",
       "      <td>12.801075</td>\n",
       "    </tr>\n",
       "    <tr>\n",
       "      <th>1</th>\n",
       "      <td>11.742350</td>\n",
       "    </tr>\n",
       "    <tr>\n",
       "      <th>2</th>\n",
       "      <td>8.098929</td>\n",
       "    </tr>\n",
       "    <tr>\n",
       "      <th>3</th>\n",
       "      <td>14.262991</td>\n",
       "    </tr>\n",
       "    <tr>\n",
       "      <th>4</th>\n",
       "      <td>14.117165</td>\n",
       "    </tr>\n",
       "  </tbody>\n",
       "</table>\n",
       "</div>"
      ],
      "text/plain": [
       "    R_vs_COM\n",
       "0  12.801075\n",
       "1  11.742350\n",
       "2   8.098929\n",
       "3  14.262991\n",
       "4  14.117165"
      ]
     },
     "execution_count": 5,
     "metadata": {},
     "output_type": "execute_result"
    }
   ],
   "source": [
    "protein_label=protein[['R_vs_COM']]\n",
    "protein_label.head()"
   ]
  },
  {
   "cell_type": "markdown",
   "metadata": {},
   "source": [
    "Assignment 1A: Using the StandardScaler object of Scikit-Learn, perform standard scaling of the features"
   ]
  },
  {
   "cell_type": "code",
   "execution_count": 11,
   "metadata": {},
   "outputs": [],
   "source": [
    "from sklearn.preprocessing import StandardScaler\n",
    "scaler=StandardScaler()\n",
    "protein_features_scaled=protein_features # MODIFY THIS LINE"
   ]
  },
  {
   "cell_type": "code",
   "execution_count": 10,
   "metadata": {},
   "outputs": [
    {
     "data": {
      "text/html": [
       "<div>\n",
       "<style scoped>\n",
       "    .dataframe tbody tr th:only-of-type {\n",
       "        vertical-align: middle;\n",
       "    }\n",
       "\n",
       "    .dataframe tbody tr th {\n",
       "        vertical-align: top;\n",
       "    }\n",
       "\n",
       "    .dataframe thead th {\n",
       "        text-align: right;\n",
       "    }\n",
       "</style>\n",
       "<table border=\"1\" class=\"dataframe\">\n",
       "  <thead>\n",
       "    <tr style=\"text-align: right;\">\n",
       "      <th></th>\n",
       "      <th>SUR_CONT_5.0</th>\n",
       "      <th>SUR_CONT_10.0</th>\n",
       "      <th>SUR_CONT_15.0</th>\n",
       "      <th>SUR_CONT_20.0</th>\n",
       "      <th>SUR_CONT_25.0</th>\n",
       "      <th>SUR_CONT_30.0</th>\n",
       "      <th>VOL_CONT_5.0</th>\n",
       "      <th>VOL_CONT_10.0</th>\n",
       "      <th>VOL_CONT_15.0</th>\n",
       "      <th>VOL_CONT_20.0</th>\n",
       "      <th>VOL_CONT_25.0</th>\n",
       "      <th>VOL_CONT_30.0</th>\n",
       "    </tr>\n",
       "  </thead>\n",
       "  <tbody>\n",
       "    <tr>\n",
       "      <th>0</th>\n",
       "      <td>121.522571</td>\n",
       "      <td>548.881028</td>\n",
       "      <td>1264.830463</td>\n",
       "      <td>2289.518419</td>\n",
       "      <td>3391.337424</td>\n",
       "      <td>3653.967363</td>\n",
       "      <td>223.210796</td>\n",
       "      <td>1143.797421</td>\n",
       "      <td>3207.296557</td>\n",
       "      <td>5795.562616</td>\n",
       "      <td>7437.812100</td>\n",
       "      <td>7679.494767</td>\n",
       "    </tr>\n",
       "    <tr>\n",
       "      <th>1</th>\n",
       "      <td>134.702052</td>\n",
       "      <td>636.530842</td>\n",
       "      <td>1387.827686</td>\n",
       "      <td>2514.313781</td>\n",
       "      <td>3500.515835</td>\n",
       "      <td>3671.055810</td>\n",
       "      <td>290.567109</td>\n",
       "      <td>1327.942094</td>\n",
       "      <td>3665.775446</td>\n",
       "      <td>6226.401736</td>\n",
       "      <td>7525.075946</td>\n",
       "      <td>7690.406892</td>\n",
       "    </tr>\n",
       "    <tr>\n",
       "      <th>2</th>\n",
       "      <td>114.170039</td>\n",
       "      <td>810.368483</td>\n",
       "      <td>1933.682919</td>\n",
       "      <td>3205.454201</td>\n",
       "      <td>3625.612448</td>\n",
       "      <td>3677.940933</td>\n",
       "      <td>454.008471</td>\n",
       "      <td>2309.263868</td>\n",
       "      <td>5206.656879</td>\n",
       "      <td>7176.821360</td>\n",
       "      <td>7647.408006</td>\n",
       "      <td>7692.459359</td>\n",
       "    </tr>\n",
       "    <tr>\n",
       "      <th>3</th>\n",
       "      <td>145.443717</td>\n",
       "      <td>534.715664</td>\n",
       "      <td>1293.692551</td>\n",
       "      <td>2189.031480</td>\n",
       "      <td>2983.734659</td>\n",
       "      <td>3550.846935</td>\n",
       "      <td>258.304961</td>\n",
       "      <td>1307.891841</td>\n",
       "      <td>3086.614355</td>\n",
       "      <td>5262.122889</td>\n",
       "      <td>6800.541229</td>\n",
       "      <td>7582.953084</td>\n",
       "    </tr>\n",
       "    <tr>\n",
       "      <th>4</th>\n",
       "      <td>142.193057</td>\n",
       "      <td>537.457788</td>\n",
       "      <td>1295.587449</td>\n",
       "      <td>2192.705808</td>\n",
       "      <td>3036.771003</td>\n",
       "      <td>3571.304334</td>\n",
       "      <td>243.117558</td>\n",
       "      <td>1284.578485</td>\n",
       "      <td>3080.921720</td>\n",
       "      <td>5310.062713</td>\n",
       "      <td>6891.578978</td>\n",
       "      <td>7604.861335</td>\n",
       "    </tr>\n",
       "  </tbody>\n",
       "</table>\n",
       "</div>"
      ],
      "text/plain": [
       "   SUR_CONT_5.0  SUR_CONT_10.0  SUR_CONT_15.0  SUR_CONT_20.0  SUR_CONT_25.0  \\\n",
       "0    121.522571     548.881028    1264.830463    2289.518419    3391.337424   \n",
       "1    134.702052     636.530842    1387.827686    2514.313781    3500.515835   \n",
       "2    114.170039     810.368483    1933.682919    3205.454201    3625.612448   \n",
       "3    145.443717     534.715664    1293.692551    2189.031480    2983.734659   \n",
       "4    142.193057     537.457788    1295.587449    2192.705808    3036.771003   \n",
       "\n",
       "   SUR_CONT_30.0  VOL_CONT_5.0  VOL_CONT_10.0  VOL_CONT_15.0  VOL_CONT_20.0  \\\n",
       "0    3653.967363    223.210796    1143.797421    3207.296557    5795.562616   \n",
       "1    3671.055810    290.567109    1327.942094    3665.775446    6226.401736   \n",
       "2    3677.940933    454.008471    2309.263868    5206.656879    7176.821360   \n",
       "3    3550.846935    258.304961    1307.891841    3086.614355    5262.122889   \n",
       "4    3571.304334    243.117558    1284.578485    3080.921720    5310.062713   \n",
       "\n",
       "   VOL_CONT_25.0  VOL_CONT_30.0  \n",
       "0    7437.812100    7679.494767  \n",
       "1    7525.075946    7690.406892  \n",
       "2    7647.408006    7692.459359  \n",
       "3    6800.541229    7582.953084  \n",
       "4    6891.578978    7604.861335  "
      ]
     },
     "execution_count": 10,
     "metadata": {},
     "output_type": "execute_result"
    }
   ],
   "source": [
    "protein_features_scaled.head()"
   ]
  },
  {
   "cell_type": "markdown",
   "metadata": {},
   "source": [
    "Assignment 1B: for each of the features perform a linear regression to fit the distance from the center of mass (protein_label). Compute the regression score (R2 coefficient) for each fit and identify the best feature. Note that the linear regression object expect the features to be in a two-dimensional array, i.e. it expect to work on multiple features. Since in this case you are performing a series of linear regression on a single feature, you need to reshape this one-dimensional array as a matrix with one column. This can be done in the following way"
   ]
  },
  {
   "cell_type": "code",
   "execution_count": 48,
   "metadata": {},
   "outputs": [
    {
     "name": "stdout",
     "output_type": "stream",
     "text": [
      "<class 'numpy.ndarray'> (753,)\n",
      "<class 'numpy.ndarray'> (753, 1)\n"
     ]
    }
   ],
   "source": [
    "X=protein_features.iloc[:,0].values #this is the numpy array that contains the values of the first feature\n",
    "print(type(X),X.shape) # in the print out you can see that the array has a single dimension with 753 values\n",
    "Y=X.reshape(-1,1) # we can reshape it to become a two dimensional array 753 times 1\n",
    "print(type(Y),Y.shape)"
   ]
  },
  {
   "cell_type": "code",
   "execution_count": 8,
   "metadata": {},
   "outputs": [],
   "source": [
    "from sklearn.linear_model import LinearRegression\n",
    "linear_regression = LinearRegression()\n",
    "for i in range(protein_features.shape[1]):\n",
    "    Y=protein_features.iloc[:,i].values.reshape(-1,1)\n",
    "    "
   ]
  },
  {
   "cell_type": "markdown",
   "metadata": {},
   "source": [
    "Assignment 1C: plot the scatter plot of the data together with the regression line. You can compute the regression line by computing the value of the labels predicted by the model on the given array of features. To get these values you can use the predict() method of the linear regression object, with the protein_feature as argument."
   ]
  },
  {
   "cell_type": "code",
   "execution_count": null,
   "metadata": {},
   "outputs": [],
   "source": []
  },
  {
   "cell_type": "markdown",
   "metadata": {},
   "source": [
    "Assignment 1D: Compute the mean squared error of the fit, i.e. the average squared difference between the given labels and the predicted labels. You can implement the math yourself, or you can use the sklearn.metrics mean_squared_error() function. "
   ]
  },
  {
   "cell_type": "code",
   "execution_count": 27,
   "metadata": {},
   "outputs": [],
   "source": [
    "from sklearn.metrics import mean_squared_error\n"
   ]
  },
  {
   "cell_type": "markdown",
   "metadata": {},
   "source": [
    "Assignment 1E: Compute the learning curves for the linear regression. You can use the sklearn.model_selection train_test_split function to generate a random split of training vs validation set. "
   ]
  },
  {
   "cell_type": "code",
   "execution_count": 14,
   "metadata": {},
   "outputs": [],
   "source": [
    "from sklearn.model_selection import train_test_split\n",
    "X_train, X_val, y_train, y_val = train_test_split(protein_features['VOL_CONT_15.0'].values.reshape(-1,1),protein_label, test_size=0.2)"
   ]
  },
  {
   "cell_type": "markdown",
   "metadata": {},
   "source": [
    "You can now compute the mean squared error as a function of the number of data points in the training set. Vary this number from 1 to the whole training set and save the mean squared error from each training. For each traning you can now compute the validation error, i.e. the mean square error in the prediction vs labels for the whole validation set."
   ]
  },
  {
   "cell_type": "code",
   "execution_count": 16,
   "metadata": {},
   "outputs": [
    {
     "ename": "SyntaxError",
     "evalue": "unexpected EOF while parsing (1002935984.py, line 3)",
     "output_type": "error",
     "traceback": [
      "\u001b[0;36m  Input \u001b[0;32mIn [16]\u001b[0;36m\u001b[0m\n\u001b[0;31m    for m in range(1,len(X_train)):\u001b[0m\n\u001b[0m                                   ^\u001b[0m\n\u001b[0;31mSyntaxError\u001b[0m\u001b[0;31m:\u001b[0m unexpected EOF while parsing\n"
     ]
    }
   ],
   "source": [
    "train_errors=[]\n",
    "val_errors=[]\n",
    "for m in range(1,len(X_train)):\n"
   ]
  },
  {
   "cell_type": "markdown",
   "metadata": {},
   "source": [
    "Plot the learning curves"
   ]
  },
  {
   "cell_type": "code",
   "execution_count": null,
   "metadata": {},
   "outputs": [],
   "source": []
  }
 ],
 "metadata": {
  "interpreter": {
   "hash": "31f2aee4e71d21fbe5cf8b01ff0e069b9275f58929596ceb00d14d90e3e16cd6"
  },
  "kernelspec": {
   "display_name": "Python 3.8.9 64-bit",
   "language": "python",
   "name": "python3"
  },
  "language_info": {
   "codemirror_mode": {
    "name": "ipython",
    "version": 3
   },
   "file_extension": ".py",
   "mimetype": "text/x-python",
   "name": "python",
   "nbconvert_exporter": "python",
   "pygments_lexer": "ipython3",
   "version": "3.8.9"
  },
  "orig_nbformat": 4
 },
 "nbformat": 4,
 "nbformat_minor": 2
}
